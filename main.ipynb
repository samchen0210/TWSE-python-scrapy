{
 "cells": [
  {
   "cell_type": "markdown",
   "metadata": {},
   "source": [
    "### Part1 Data acquisition\n",
    "#### 1.OHLC(date)\n",
    "#### 2.concat_csv(stock_id)\n",
    "#### 3.fetch_data(startyear, startmonth,stock_id)\n",
    "###### editor: Sam Chen 2021/07"
   ]
  },
  {
   "cell_type": "code",
   "execution_count": 2,
   "metadata": {},
   "outputs": [],
   "source": [
    "#Package import\n",
    "import os\n",
    "import glob\n",
    "import time\n",
    "import datetime\n",
    "import requests\n",
    "import pandas as pd\n",
    "from io import StringIO\n",
    "from datetime import date\n",
    "\n",
    "# Chart drawing\n",
    "import plotly as py\n",
    "import plotly.io as pio\n",
    "import plotly.graph_objects as go\n",
    "from plotly.subplots import make_subplots\n",
    "from plotly.offline import download_plotlyjs, init_notebook_mode, plot, iplot\n",
    "\n",
    "#create new folder\n",
    "def createFolder(directory): #directory means the file's name\n",
    "    try:\n",
    "        if not os.path.exists(directory):\n",
    "            os.makedirs(directory)\n",
    "    except OSError:\n",
    "        print ('Error: Creating directory. ' + directory)\n",
    "# Example\n",
    "#createFolder('./5501/')\n",
    "# Creates a folder in the current directory called data\n"
   ]
  },
  {
   "cell_type": "code",
   "execution_count": 4,
   "metadata": {},
   "outputs": [],
   "source": [
    "def OHLC(date,stock_id):\n",
    "    stock_id =str(stock_id)\n",
    "    date = str(date)\n",
    "    timestamp = str(time.time() * 1000 + 1000000)\n",
    "    url = 'https://www.twse.com.tw/exchangeReport/STOCK_DAY?response=json&date='+ date\n",
    "    #https://www.twse.com.tw/exchangeReport/STOCK_DAY?response=json&date=20210702&st\n",
    "    res = requests.get(url)\n",
    "    \n",
    "    #\"日期\",\"成交股數\",\"成交金額\",\"開盤價\",\"最高價\",\"最低價\",\"收盤價\",\"漲跌價差\",\"成交筆數\n",
    "    content = res.text.replace(':[[','],[').replace(\"]]\",\"],[\").split('],[')\n",
    "    lines = list(filter(lambda l:(len(l.split('\",')) < 10) & (len(l.split('\",')) > 6)))\n",
    "    content = \"\\n\".join(lines)\n",
    "    \n",
    "    #Index column set\n",
    "    df = pd.read_csv(StringIO(content),names=[\"日期\",\"成交股數\",\n",
    "                                              \"成交金額\",\"開盤價\",\"最高價\",\"最低價\",\n",
    "                                              \"收盤價\",\"漲跌價差\",\"成交筆數\"])\n",
    "    df = df.astype(str)\n",
    "    \n",
    "    #Change date format (108->2019)\n",
    "    d = df['日期']\n",
    "    for i in range(len(d)):\n",
    "        df.iloc[i]=d.iloc[i].replace(d.iloc[i][0:3], str(int(d.iloc[i][0:3]) + 1911))\n",
    "        df_dt=pd.to_datetime(df.日期,format=\"%Y/%m/%d\")\n",
    "        df.set_index('日期',inplace=True)\n",
    "    \n",
    "    #Last Check\n",
    "    df = df.apply(lambda s: s.str.replace(',', ''))\n",
    "    df = df.apply(lambda s:pd.to_numeric(s, errors='coerce'))\n",
    "    df = df[df.columns[df.isnull().all() == False]]\n",
    "    \n",
    "    #Change file directory to stock_id individual flile\n",
    "    path = os.chdir('C:\\\\Users\\\\SC.210\\\\FinTech\\\\stock\\\\'+ stock_id)\n",
    "    df.to_csv(date +'.csv',encoding='utf_8_sig')\n",
    "    print(date +'.csv is downloaded!')"
   ]
  },
  {
   "cell_type": "code",
   "execution_count": 5,
   "metadata": {},
   "outputs": [],
   "source": [
    "#Download from 2019~2020 OHLC data\n",
    "def fetch_data(startyear, startmonth,stock_id):\n",
    "    currentdate = datetime.datetime.today().strftime(\"%Y/%m/%d\")\n",
    "    currentyear = datetime.datetime.now().year\n",
    "    currentmonth = datetime.datetime.now().month\n",
    "    print('Current date: ' + str(currentdate))\n",
    "    \n",
    "    for i in range(startyear, currentyear+1):\n",
    "        if (i != currentyear):\n",
    "            for j in range(startmonth, 13):\n",
    "                if j <10:\n",
    "                    date = str(i)+'0'+str(j)+'01'\n",
    "                    OHLC(date,stock_id)\n",
    "                    time.sleep(3) #sleep for 5 secods avoid rate limiting\n",
    "                else:\n",
    "                    date = str(i)+str(j)+'01'\n",
    "                    OHLC(date,stock_id)\n",
    "                    time.sleep(3)\n",
    "        else:\n",
    "           for j in range(startmonth, currentmonth):\n",
    "                if j <10:\n",
    "                    date = str(i)+'0'+str(j)+'01'\n",
    "                    OHLC(date,stock_id)\n",
    "                    time.sleep(3)\n",
    "                else:\n",
    "                    date = str(i)+str(j)+'01'\n",
    "                    OHLC(date,stock_id)\n",
    "                    time.sleep(3)\n",
    "        print('===========================')\n",
    "        print('Download done!!')"
   ]
  },
  {
   "cell_type": "code",
   "execution_count": 1,
   "metadata": {},
   "outputs": [
    {
     "ename": "ModuleNotFoundError",
     "evalue": "No module named 'main'",
     "output_type": "error",
     "traceback": [
      "\u001b[0;31m---------------------------------------------------------------------------\u001b[0m",
      "\u001b[0;31mModuleNotFoundError\u001b[0m                       Traceback (most recent call last)",
      "\u001b[0;32m/var/folders/w9/lsqq5n6s2plcf76yzj3dk3tr0000gn/T/ipykernel_27275/2876575080.py\u001b[0m in \u001b[0;36m<module>\u001b[0;34m\u001b[0m\n\u001b[0;32m----> 1\u001b[0;31m \u001b[0;32mimport\u001b[0m \u001b[0mmain\u001b[0m\u001b[0;34m\u001b[0m\u001b[0;34m\u001b[0m\u001b[0m\n\u001b[0m\u001b[1;32m      2\u001b[0m \u001b[0;32mimport\u001b[0m \u001b[0mOHLC\u001b[0m\u001b[0;34m\u001b[0m\u001b[0;34m\u001b[0m\u001b[0m\n\u001b[1;32m      3\u001b[0m \u001b[0;34m\u001b[0m\u001b[0m\n\u001b[1;32m      4\u001b[0m \u001b[0;32mdef\u001b[0m \u001b[0mcrawler\u001b[0m\u001b[0;34m(\u001b[0m\u001b[0mstock_id\u001b[0m\u001b[0;34m)\u001b[0m\u001b[0;34m:\u001b[0m\u001b[0;34m\u001b[0m\u001b[0;34m\u001b[0m\u001b[0m\n\u001b[1;32m      5\u001b[0m     \u001b[0mstock_id\u001b[0m \u001b[0;34m=\u001b[0m \u001b[0mstr\u001b[0m\u001b[0;34m(\u001b[0m\u001b[0mstock_id\u001b[0m\u001b[0;34m)\u001b[0m\u001b[0;34m\u001b[0m\u001b[0;34m\u001b[0m\u001b[0m\n",
      "\u001b[0;31mModuleNotFoundError\u001b[0m: No module named 'main'"
     ]
    }
   ],
   "source": [
    "import OHLC\n",
    "\n",
    "def crawler(stock_id):\n",
    "    stock_id = str(stock_id)\n",
    "    os.chdir('C:\\\\Users\\\\SC.210\\\\FinTech\\\\stock') #Change the current working direct\n",
    "    \n",
    "    createFolder('./'+stock_id+'/') #Create new folder\n",
    "    os.chdir('C:\\\\Users\\\\SC.210\\\\FinTech\\\\stock\\\\'+stock_id) #Change the current wor\n",
    "    \n",
    "    #Fetch data from TWSE (indiviual information)\n",
    "    fetch_data(2010,1,stock_id)\n",
    "    \n",
    "    #Concat all the csv to signle file\n",
    "    concat_csv(stock_id)\n",
    "    \n",
    "    print('Finish crawling stock: '+ stock_id)"
   ]
  },
  {
   "cell_type": "code",
   "execution_count": 6,
   "metadata": {},
   "outputs": [],
   "source": [
    "def concat_csv(stock_id):\n",
    "    #Enter the path where store csv files\n",
    "    path = 'C:/Users/SC.210/FinTech/stock/'+str(stock_id)\n",
    "    os.chdir(path)\n",
    "    \n",
    "    #Use glob to match the pattern ‘csv’\n",
    "    extension = 'csv'\n",
    "    all_filenames = [i for i in glob.glob('*.{}'.format(extension))]\n",
    "    \n",
    "    #Combine all files in the list\n",
    "    combined_csv = pd.concat([pd.read_csv(f) for f in all_filenames ])\n",
    "    \n",
    "    #Export to csv\n",
    "    combined_csv.to_csv( \"tse_\"+str(stock_id)+\".csv\", index=False, encoding='utf-8-s')"
   ]
  },
  {
   "cell_type": "code",
   "execution_count": null,
   "metadata": {},
   "outputs": [],
   "source": [
    "crawer"
   ]
  },
  {
   "cell_type": "markdown",
   "metadata": {},
   "source": [
    "### Part2 Workplace\n",
    "#### 1.Download OHLC data from 2010~2020\n",
    "#### 2.Visuzlize the trend and technical indicators"
   ]
  },
  {
   "cell_type": "markdown",
   "metadata": {},
   "source": [
    "from csv import reader\n",
    "os.chdir('C:\\\\Users\\\\SC.210\\\\FinTech') #Change the current working directory\n",
    "\n",
    "Stock=[]\n",
    "with open('stocknumber.csv','r',encoding='utf-8') as read_obj:\n",
    "csv_reader = reader(read_obj)\n",
    "for row in csv_reader:\n",
    "Stock.append(row)\n",
    "\n",
    "Stock[0] = ['1101']\n",
    "Stock[150]"
   ]
  },
  {
   "cell_type": "code",
   "execution_count": 7,
   "metadata": {},
   "outputs": [
    {
     "ename": "NameError",
     "evalue": "name 'Stock' is not defined",
     "output_type": "error",
     "traceback": [
      "\u001b[0;31m---------------------------------------------------------------------------\u001b[0m",
      "\u001b[0;31mNameError\u001b[0m                                 Traceback (most recent call last)",
      "\u001b[0;32m/var/folders/w9/lsqq5n6s2plcf76yzj3dk3tr0000gn/T/ipykernel_21743/3385952472.py\u001b[0m in \u001b[0;36m<module>\u001b[0;34m\u001b[0m\n\u001b[1;32m      1\u001b[0m \u001b[0;32mfor\u001b[0m \u001b[0mi\u001b[0m \u001b[0;32min\u001b[0m \u001b[0mrange\u001b[0m\u001b[0;34m(\u001b[0m\u001b[0;36m101\u001b[0m\u001b[0;34m,\u001b[0m\u001b[0;36m150\u001b[0m\u001b[0;34m)\u001b[0m\u001b[0;34m:\u001b[0m\u001b[0;34m\u001b[0m\u001b[0;34m\u001b[0m\u001b[0m\n\u001b[0;32m----> 2\u001b[0;31m     \u001b[0ms\u001b[0m \u001b[0;34m=\u001b[0m \u001b[0mstr\u001b[0m\u001b[0;34m(\u001b[0m\u001b[0mStock\u001b[0m\u001b[0;34m[\u001b[0m\u001b[0mi\u001b[0m\u001b[0;34m]\u001b[0m\u001b[0;34m)\u001b[0m\u001b[0;34m.\u001b[0m\u001b[0mreplace\u001b[0m\u001b[0;34m(\u001b[0m\u001b[0;34m\"['\"\u001b[0m\u001b[0;34m,\u001b[0m\u001b[0;34m\"\"\u001b[0m\u001b[0;34m)\u001b[0m\u001b[0;34m.\u001b[0m\u001b[0mreplace\u001b[0m\u001b[0;34m(\u001b[0m\u001b[0;34m\"']\"\u001b[0m\u001b[0;34m,\u001b[0m\u001b[0;34m\"\"\u001b[0m\u001b[0;34m)\u001b[0m\u001b[0;34m\u001b[0m\u001b[0;34m\u001b[0m\u001b[0m\n\u001b[0m\u001b[1;32m      3\u001b[0m     \u001b[0mcrawler\u001b[0m\u001b[0;34m(\u001b[0m\u001b[0ms\u001b[0m\u001b[0;34m)\u001b[0m\u001b[0;34m\u001b[0m\u001b[0;34m\u001b[0m\u001b[0m\n\u001b[1;32m      4\u001b[0m     \u001b[0mtime\u001b[0m\u001b[0;34m.\u001b[0m\u001b[0msleep\u001b[0m\u001b[0;34m(\u001b[0m\u001b[0;36m8\u001b[0m\u001b[0;34m)\u001b[0m\u001b[0;34m\u001b[0m\u001b[0;34m\u001b[0m\u001b[0m\n",
      "\u001b[0;31mNameError\u001b[0m: name 'Stock' is not defined"
     ]
    }
   ],
   "source": [
    "for i in range(101,150):\n",
    "    s = str(Stock[i]).replace(\"['\",\"\").replace(\"']\",\"\")\n",
    "    crawler(s)\n",
    "    time.sleep(8)"
   ]
  },
  {
   "cell_type": "code",
   "execution_count": null,
   "metadata": {},
   "outputs": [],
   "source": [
    "df = pd.read_csv(r'C:\\Users\\SC.210\\FinTech\\2436\\tse_2436.csv')\n",
    "fig = go.Figure(data=[go.Candlestick(x=df['日期'],\n",
    "                                     open=df['開盤價'],\n",
    "                                     high=df['最高價'],\n",
    "                                     low=df['最低價'],\n",
    "                                     close=df['收盤價'])])\n",
    "fig.show()"
   ]
  },
  {
   "cell_type": "markdown",
   "metadata": {},
   "source": [
    "### Part3 Technical Indicator\n",
    "#### 1. Moving average\n",
    "#### 2. Relative strength index(RSI)\n",
    "#### 3. MACD"
   ]
  },
  {
   "cell_type": "code",
   "execution_count": null,
   "metadata": {},
   "outputs": [],
   "source": [
    "import os\n",
    "import numpy as np\n",
    "import pandas as pd\n",
    "import matplotlib.pyplot as plt\n",
    "\n",
    "# Chart drawing\n",
    "import plotly as py\n",
    "import plotly.io as pio\n",
    "import plotly.graph_objects as go\n",
    "from plotly.subplots import make_subplots\n",
    "from plotly.offline import download_plotlyjs, init_notebook_mode, plot, iplot\n",
    "\n",
    "# Show charts when running kernel\n",
    "init_notebook_mode(connected=True)\n",
    "\n",
    "# Change default background color for all visualizations\n",
    "layout=go.Layout(paper_bgcolor='rgba(0,0,0,0)', plot_bgcolor='rgba(250,250,250,0.8)')\n",
    "fig = go.Figure(layout=layout)\n",
    "templated_fig = pio.to_templated(fig)\n",
    "pio.templates['my_template'] = templated_fig.layout.template\n",
    "pio.templates.default = 'my_template'"
   ]
  },
  {
   "cell_type": "code",
   "execution_count": null,
   "metadata": {},
   "outputs": [],
   "source": [
    "os.chdir('C:\\\\Users\\\\SC.210\\\\FinTech\\\\2436')\n",
    "df = pd.read_csv('tse_2436.csv')\n",
    "#Moving average\n",
    "df['EMA_9'] = df['收盤價'].ewm(9).mean().shift()\n",
    "df['SMA_5'] = df['收盤價'].rolling(5).mean().shift()\n",
    "df['SMA_10'] = df['收盤價'].rolling(10).mean().shift()\n",
    "df['SMA_15'] = df['收盤價'].rolling(15).mean().shift()\n",
    "df['SMA_30'] = df['收盤價'].rolling(30).mean().shift()\n",
    "fig = go.Figure()\n",
    "fig.add_trace(go.Scatter(x=df['日期'], y=df.EMA_9, name='EMA 9'))\n",
    "fig.add_trace(go.Scatter(x=df['日期'], y=df.SMA_5, name='SMA 5'))\n",
    "fig.add_trace(go.Scatter(x=df['日期'], y=df.SMA_10, name='SMA 10'))\n",
    "fig.add_trace(go.Scatter(x=df['日期'], y=df.SMA_15, name='SMA 15'))\n",
    "fig.add_trace(go.Scatter(x=df['日期'], y=df.SMA_30, name='SMA 30'))\n",
    "fig.add_trace(go.Scatter(x=df['日期'], y=df['收盤價'], name='Close', opacity=0.2))\n",
    "fig.show()"
   ]
  },
  {
   "cell_type": "code",
   "execution_count": null,
   "metadata": {},
   "outputs": [],
   "source": [
    "#Relative Strength index(RSI)\n",
    "def relative_strength_idx(df, n=14):\n",
    "    close = df['收盤價']\n",
    "    delta = close.diff()\n",
    "    delta = delta[1:]\n",
    "    pricesUp = delta.copy()\n",
    "    pricesDown = delta.copy()\n",
    "    pricesUp[pricesUp < 0] = 0\n",
    "    pricesDown[pricesDown > 0] = 0\n",
    "    rollUp = pricesUp.rolling(n).mean()\n",
    "    rollDown = pricesDown.abs().rolling(n).mean()\n",
    "    rs = rollUp / rollDown\n",
    "    rsi = 100.0 - (100.0 / (1.0 + rs))\n",
    "    return rsi\n",
    "\n",
    "df['RSI'] = relative_strength_idx(df).fillna(0)\n",
    "\n",
    "fig = go.Figure(go.Scatter(x=df['日期'], y=df.RSI, name='RSI'))\n",
    "fig.show()"
   ]
  },
  {
   "cell_type": "code",
   "execution_count": null,
   "metadata": {},
   "outputs": [],
   "source": [
    "#MACD\n",
    "EMA_12 = pd.Series(df['收盤價'].ewm(span=12, min_periods=12).mean())\n",
    "EMA_26 = pd.Series(df['收盤價'].ewm(span=26, min_periods=26).mean())\n",
    "df['MACD'] = pd.Series(EMA_12 - EMA_26)\n",
    "df['MACD_signal'] = pd.Series(df.MACD.ewm(span=9, min_periods=9).mean())\n",
    "\n",
    "fig = make_subplots(rows=2, cols=1)\n",
    "fig.add_trace(go.Scatter(x=df['日期'], y=df['收盤價'], name='收盤價'), row=1, col=1)\n",
    "fig.add_trace(go.Scatter(x=df['日期'], y=EMA_12, name='EMA 12'), row=1, col=1)\n",
    "fig.add_trace(go.Scatter(x=df['日期'], y=EMA_26, name='EMA 26'), row=1, col=1)\n",
    "fig.add_trace(go.Scatter(x=df['日期'], y=df['MACD'], name='MACD'), row=2, col=1)\n",
    "fig.add_trace(go.Scatter(x=df['日期'], y=df['MACD_signal'], name='Signal line'), row=2 , col=1)\n",
    "fig.show()"
   ]
  },
  {
   "cell_type": "code",
   "execution_count": null,
   "metadata": {},
   "outputs": [],
   "source": [
    "def technical_index(stock_id):\n",
    "    os.chdir('C:\\\\Users\\\\SC.210\\\\FinTech\\\\stock\\\\'+str(stock_id))\n",
    "    df = pd.read_csv('tse_'+str(stock_id)+'.csv')\n",
    "    \n",
    "    #Moving average\n",
    "    df['EMA_9'] = df['收盤價'].ewm(9).mean().shift()\n",
    "    df['SMA_5'] = df['收盤價'].rolling(5).mean().shift()\n",
    "    df['SMA_10'] = df['收盤價'].rolling(10).mean().shift()\n",
    "    df['SMA_15'] = df['收盤價'].rolling(15).mean().shift()\n",
    "    df['SMA_30'] = df['收盤價'].rolling(30).mean().shift()\n",
    "    \n",
    "    #Relative Strength index(RSI)\n",
    "    def relative_strength_idx(df, n=14):\n",
    "        close = df['收盤價']\n",
    "        delta = close.diff()\n",
    "        delta = delta[1:]\n",
    "        pricesUp = delta.copy()\n",
    "        pricesDown = delta.copy()\n",
    "        pricesUp[pricesUp < 0] = 0\n",
    "        pricesDown[pricesDown > 0] = 0\n",
    "        rollUp = pricesUp.rolling(n).mean()\n",
    "        rollDown = pricesDown.abs().rolling(n).mean()\n",
    "        rs = rollUp / rollDown\n",
    "        rsi = 100.0 - (100.0 / (1.0 + rs))\n",
    "        return rsi\n",
    "    \n",
    "    df['RSI'] = relative_strength_idx(df).fillna(0)\n",
    "    \n",
    "    #MACD\n",
    "    EMA_12 = pd.Series(df['收盤價'].ewm(span=12, min_periods=12).mean())\n",
    "    EMA_26 = pd.Series(df['收盤價'].ewm(span=26, min_periods=26).mean())\n",
    "    df['MACD'] = pd.Series(EMA_12 - EMA_26)\n",
    "    df['MACD_signal'] = pd.Series(df.MACD.ewm(span=9, min_periods=9).mean())\n",
    "    df.to_csv( \"tse_\"+str(stock_id)+\".csv\", index=False, encoding='utf-8-sig')"
   ]
  },
  {
   "cell_type": "code",
   "execution_count": null,
   "metadata": {},
   "outputs": [],
   "source": [
    "technical_index(1530)"
   ]
  },
  {
   "cell_type": "code",
   "execution_count": null,
   "metadata": {},
   "outputs": [],
   "source": [
    "for i in range(1,101):\n",
    "    s = str(Stock[i]).replace(\"['\",\"\").replace(\"']\",\"\")\n",
    "    technical_index(s)\n",
    "    time.sleep(2)"
   ]
  }
 ],
 "metadata": {
  "interpreter": {
   "hash": "31f2aee4e71d21fbe5cf8b01ff0e069b9275f58929596ceb00d14d90e3e16cd6"
  },
  "kernelspec": {
   "display_name": "Python 3.8.9 64-bit",
   "language": "python",
   "name": "python3"
  },
  "language_info": {
   "codemirror_mode": {
    "name": "ipython",
    "version": 3
   },
   "file_extension": ".py",
   "mimetype": "text/x-python",
   "name": "python",
   "nbconvert_exporter": "python",
   "pygments_lexer": "ipython3",
   "version": "3.9.7"
  },
  "orig_nbformat": 4
 },
 "nbformat": 4,
 "nbformat_minor": 2
}

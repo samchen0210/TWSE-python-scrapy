{
 "cells": [
  {
   "cell_type": "code",
   "execution_count": 1,
   "metadata": {},
   "outputs": [
    {
     "ename": "ModuleNotFoundError",
     "evalue": "No module named 'requests'",
     "output_type": "error",
     "traceback": [
      "\u001b[0;31m---------------------------------------------------------------------------\u001b[0m",
      "\u001b[0;31mModuleNotFoundError\u001b[0m                       Traceback (most recent call last)",
      "\u001b[1;32m/Users/sc0210/Desktop/Scrapy/main.ipynb Cell 1'\u001b[0m in \u001b[0;36m<cell line: 6>\u001b[0;34m()\u001b[0m\n\u001b[1;32m      <a href='vscode-notebook-cell:/Users/sc0210/Desktop/Scrapy/main.ipynb#ch0000000?line=3'>4</a>\u001b[0m \u001b[39mimport\u001b[39;00m \u001b[39mtime\u001b[39;00m\n\u001b[1;32m      <a href='vscode-notebook-cell:/Users/sc0210/Desktop/Scrapy/main.ipynb#ch0000000?line=4'>5</a>\u001b[0m \u001b[39mimport\u001b[39;00m \u001b[39mdatetime\u001b[39;00m\n\u001b[0;32m----> <a href='vscode-notebook-cell:/Users/sc0210/Desktop/Scrapy/main.ipynb#ch0000000?line=5'>6</a>\u001b[0m \u001b[39mimport\u001b[39;00m \u001b[39mrequests\u001b[39;00m\n\u001b[1;32m      <a href='vscode-notebook-cell:/Users/sc0210/Desktop/Scrapy/main.ipynb#ch0000000?line=6'>7</a>\u001b[0m \u001b[39mimport\u001b[39;00m \u001b[39mpandas\u001b[39;00m \u001b[39mas\u001b[39;00m \u001b[39mpd\u001b[39;00m\n\u001b[1;32m      <a href='vscode-notebook-cell:/Users/sc0210/Desktop/Scrapy/main.ipynb#ch0000000?line=7'>8</a>\u001b[0m \u001b[39mfrom\u001b[39;00m \u001b[39mio\u001b[39;00m \u001b[39mimport\u001b[39;00m StringIO\n",
      "\u001b[0;31mModuleNotFoundError\u001b[0m: No module named 'requests'"
     ]
    }
   ],
   "source": [
    "#Package import\n",
    "import os\n",
    "import glob\n",
    "import time\n",
    "import datetime\n",
    "import requests\n",
    "import pandas as pd\n",
    "from io import StringIO\n",
    "from datetime import date\n",
    "\n",
    "# Chart drawing\n",
    "import plotly as py\n",
    "import plotly.io as pio\n",
    "import plotly.graph_objects as go\n",
    "from plotly.subplots import make_subplots\n",
    "from plotly.offline import download_plotlyjs, init_notebook_mode, plot, iplot\n",
    "\n",
    "#create new folder\n",
    "def createFolder(directory): #directory means the file's name\n",
    "    try:\n",
    "        if not os.path.exists(directory):\n",
    "            os.makedirs(directory)\n",
    "    except OSError:\n",
    "        print ('Error: Creating directory. ' + directory)\n",
    "# Example\n",
    "#createFolder('./5501/')\n",
    "# Creates a folder in the current directory called data\n"
   ]
  },
  {
   "cell_type": "code",
   "execution_count": null,
   "metadata": {},
   "outputs": [],
   "source": [
    "#Package import\n",
    "import os\n",
    "import glob\n",
    "import time\n",
    "import datetime\n",
    "import requests\n",
    "import pandas as pd\n",
    "from io import StringIO\n",
    "from datetime import date\n",
    "\n",
    "def OHLC(date,stock_id):\n",
    "    stock_id =str(stock_id)\n",
    "    date = str(date)\n",
    "    timestamp = str(time.time() * 1000 + 1000000)\n",
    "    url = 'https://www.twse.com.tw/exchangeReport/STOCK_DAY?response=json&date='+ date\n",
    "    #https://www.twse.com.tw/exchangeReport/STOCK_DAY?response=json&date=20210702&st\n",
    "    res = requests.get(url)\n",
    "    \n",
    "    #\"日期\",\"成交股數\",\"成交金額\",\"開盤價\",\"最高價\",\"最低價\",\"收盤價\",\"漲跌價差\",\"成交筆數\n",
    "    content = res.text.replace(':[[','],[').replace(\"]]\",\"],[\").split('],[')\n",
    "    lines = list(filter(lambda l:(len(l.split('\",')) < 10) & (len(l.split('\",')) > 6)))\n",
    "    content = \"\\n\".join(lines)\n",
    "    \n",
    "    #Index column set\n",
    "    df = pd.read_csv(StringIO(content),names=[\"日期\",\"成交股數\",\n",
    "                                              \"成交金額\",\"開盤價\",\"最高價\",\"最低價\",\n",
    "                                              \"收盤價\",\"漲跌價差\",\"成交筆數\"])\n",
    "    df = df.astype(str)\n",
    "    \n",
    "    #Change date format (108->2019)\n",
    "    d = df['日期']\n",
    "    for i in range(len(d)):\n",
    "        df.iloc[i]=d.iloc[i].replace(d.iloc[i][0:3], str(int(d.iloc[i][0:3]) + 1911))\n",
    "        df_dt=pd.to_datetime(df.日期,format=\"%Y/%m/%d\")\n",
    "        df.set_index('日期',inplace=True)\n",
    "    \n",
    "    #Last Check\n",
    "    df = df.apply(lambda s: s.str.replace(',', ''))\n",
    "    df = df.apply(lambda s:pd.to_numeric(s, errors='coerce'))\n",
    "    df = df[df.columns[df.isnull().all() == False]]\n",
    "    \n",
    "    #Change file directory to stock_id individual flile\n",
    "    path = os.chdir('C:\\\\Users\\\\SC.210\\\\FinTech\\\\stock\\\\'+ stock_id)\n",
    "    df.to_csv(date +'.csv',encoding='utf_8_sig')\n",
    "    print(date +'.csv is downloaded!')"
   ]
  },
  {
   "cell_type": "code",
   "execution_count": null,
   "metadata": {},
   "outputs": [],
   "source": [
    "#Download from 2019~2020 OHLC data\n",
    "def fetch_data(startyear, startmonth,stock_id):\n",
    "    currentdate = datetime.datetime.today().strftime(\"%Y/%m/%d\")\n",
    "    currentyear = datetime.datetime.now().year\n",
    "    currentmonth = datetime.datetime.now().month\n",
    "    print('Current date: ' + str(currentdate))\n",
    "    \n",
    "    for i in range(startyear, currentyear+1):\n",
    "        if (i != currentyear):\n",
    "            for j in range(startmonth, 13):\n",
    "                if j <10:\n",
    "                    date = str(i)+'0'+str(j)+'01'\n",
    "                    OHLC(date,stock_id)\n",
    "                    time.sleep(3) #sleep for 5 secods avoid rate limiting\n",
    "                else:\n",
    "                    date = str(i)+str(j)+'01'\n",
    "                    OHLC(date,stock_id)\n",
    "                    time.sleep(3)\n",
    "        else:\n",
    "           for j in range(startmonth, currentmonth):\n",
    "                if j <10:\n",
    "                    date = str(i)+'0'+str(j)+'01'\n",
    "                    OHLC(date,stock_id)\n",
    "                    time.sleep(3)\n",
    "                else:\n",
    "                    date = str(i)+str(j)+'01'\n",
    "                    OHLC(date,stock_id)\n",
    "                    time.sleep(3)\n",
    "        print('===========================')\n",
    "        print('Download done!!')"
   ]
  },
  {
   "cell_type": "code",
   "execution_count": null,
   "metadata": {},
   "outputs": [],
   "source": [
    "def concat_csv(stock_id):\n",
    "    #Enter the path where store csv files\n",
    "    path = 'C:/Users/SC.210/FinTech/stock/'+str(stock_id)\n",
    "    os.chdir(path)\n",
    "    \n",
    "    #Use glob to match the pattern ‘csv’\n",
    "    extension = 'csv'\n",
    "    all_filenames = [i for i in glob.glob('*.{}'.format(extension))]\n",
    "    \n",
    "    #Combine all files in the list\n",
    "    combined_csv = pd.concat([pd.read_csv(f) for f in all_filenames ])\n",
    "    \n",
    "    #Export to csv\n",
    "    combined_csv.to_csv( \"tse_\"+str(stock_id)+\".csv\", index=False, encoding='utf-8-s')"
   ]
  }
 ],
 "metadata": {
  "interpreter": {
   "hash": "31f2aee4e71d21fbe5cf8b01ff0e069b9275f58929596ceb00d14d90e3e16cd6"
  },
  "kernelspec": {
   "display_name": "Python 3.8.9 64-bit",
   "language": "python",
   "name": "python3"
  },
  "language_info": {
   "codemirror_mode": {
    "name": "ipython",
    "version": 3
   },
   "file_extension": ".py",
   "mimetype": "text/x-python",
   "name": "python",
   "nbconvert_exporter": "python",
   "pygments_lexer": "ipython3",
   "version": "3.8.9"
  },
  "orig_nbformat": 4
 },
 "nbformat": 4,
 "nbformat_minor": 2
}
